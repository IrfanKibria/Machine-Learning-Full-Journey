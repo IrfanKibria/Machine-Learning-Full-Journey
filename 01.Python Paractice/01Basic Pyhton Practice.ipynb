{
 "cells": [
  {
   "cell_type": "code",
   "execution_count": 6,
   "id": "acd03bef-0022-4a94-9ece-dc862617be2e",
   "metadata": {},
   "outputs": [
    {
     "name": "stdout",
     "output_type": "stream",
     "text": [
      "I am Irfan Kibria Talha\n"
     ]
    }
   ],
   "source": [
    "print(\"I am Irfan Kibria Talha\")"
   ]
  },
  {
   "cell_type": "code",
   "execution_count": 10,
   "id": "57f65e37-bb7f-4430-8035-33bcfd1c3cab",
   "metadata": {},
   "outputs": [
    {
     "data": {
      "text/plain": [
       "42"
      ]
     },
     "execution_count": 10,
     "metadata": {},
     "output_type": "execute_result"
    }
   ],
   "source": [
    "6*7"
   ]
  },
  {
   "cell_type": "code",
   "execution_count": 11,
   "id": "004a59b9-a9c8-49ca-8f9c-ae1a03c0fc50",
   "metadata": {},
   "outputs": [
    {
     "name": "stdout",
     "output_type": "stream",
     "text": [
      "64\n"
     ]
    }
   ],
   "source": [
    "print(8**2)"
   ]
  },
  {
   "cell_type": "code",
   "execution_count": 25,
   "id": "d2e29390-11f0-450f-96ed-0e3672ca736c",
   "metadata": {},
   "outputs": [
    {
     "name": "stdout",
     "output_type": "stream",
     "text": [
      "IRfan\n",
      "I\n",
      "R\n",
      "f\n",
      "a\n",
      "n\n",
      "Kibria\n",
      "K\n",
      "i\n",
      "b\n",
      "r\n",
      "i\n",
      "a\n",
      "Talha\n",
      "T\n",
      "a\n",
      "l\n",
      "h\n",
      "a\n"
     ]
    }
   ],
   "source": [
    "name = [\"IRfan\", \"Kibria\", \"Talha\"]\n",
    "for i in name:\n",
    "    print(i)\n",
    "    for Char in i:\n",
    "        print(Char)"
   ]
  },
  {
   "cell_type": "code",
   "execution_count": 26,
   "id": "a2678d7c-63cb-46a3-8410-6adc3e73da22",
   "metadata": {},
   "outputs": [
    {
     "name": "stdout",
     "output_type": "stream",
     "text": [
      "IRfan\n",
      "Kibria\n",
      "K\n",
      "i\n",
      "b\n",
      "r\n",
      "i\n",
      "a\n",
      "Talha\n"
     ]
    }
   ],
   "source": [
    "name = [\"IRfan\", \"Kibria\", \"Talha\"]\n",
    "for i in name:\n",
    "    print(i)\n",
    "    if i == 'Kibria':\n",
    "        for char in i:\n",
    "            print(char)"
   ]
  }
 ],
 "metadata": {
  "kernelspec": {
   "display_name": "Python 3 (ipykernel)",
   "language": "python",
   "name": "python3"
  },
  "language_info": {
   "codemirror_mode": {
    "name": "ipython",
    "version": 3
   },
   "file_extension": ".py",
   "mimetype": "text/x-python",
   "name": "python",
   "nbconvert_exporter": "python",
   "pygments_lexer": "ipython3",
   "version": "3.12.7"
  }
 },
 "nbformat": 4,
 "nbformat_minor": 5
}
